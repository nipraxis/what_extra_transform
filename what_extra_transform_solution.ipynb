{
 "cells": [
  {
   "cell_type": "markdown",
   "id": "cfeb5693",
   "metadata": {},
   "source": [
    "# Extra transform exercise"
   ]
  },
  {
   "cell_type": "code",
   "execution_count": 1,
   "id": "d4d1f0e4",
   "metadata": {
    "execution": {
     "iopub.execute_input": "2022-09-28T06:59:00.584131Z",
     "iopub.status.busy": "2022-09-28T06:59:00.583124Z",
     "iopub.status.idle": "2022-09-28T06:59:02.169999Z",
     "shell.execute_reply": "2022-09-28T06:59:02.172220Z"
    }
   },
   "outputs": [],
   "source": [
    "#: standard imports\n",
    "import numpy as np\n",
    "import numpy.linalg as npl\n",
    "# print arrays to 4 decimal places\n",
    "np.set_printoptions(precision=4, suppress=True)\n",
    "import matplotlib.pyplot as plt\n",
    "#: gray colormap by default\n",
    "plt.rcParams['image.cmap'] = 'gray'\n",
    "from scipy.optimize import fmin_powell\n",
    "import scipy.ndimage as snd\n",
    "\n",
    "import nibabel as nib"
   ]
  },
  {
   "cell_type": "markdown",
   "id": "d0e753bb",
   "metadata": {},
   "source": [
    "This exercise follows on from [optimizing\n",
    "space](https://textbook.nipraxis.org).\n",
    "\n",
    "A malicious entity (us) has taken a volume from an FMRI time-series, and\n",
    "translated it by a few voxels some or all of the three axes (X, Y, and Z).\n",
    "\n",
    "Here is one plane of the not-shifted volume of the FMRI time series:"
   ]
  },
  {
   "cell_type": "code",
   "execution_count": 2,
   "id": "264a7b7b",
   "metadata": {
    "execution": {
     "iopub.execute_input": "2022-09-28T06:59:02.179643Z",
     "iopub.status.busy": "2022-09-28T06:59:02.178519Z",
     "iopub.status.idle": "2022-09-28T06:59:02.435133Z",
     "shell.execute_reply": "2022-09-28T06:59:02.434264Z"
    }
   },
   "outputs": [],
   "source": [
    "unshifted_vol = nib.load('unshifted_vol.nii').get_fdata()\n",
    "plt.imshow(unshifted_vol[:, :, 15])"
   ]
  },
  {
   "cell_type": "markdown",
   "id": "42b69c01",
   "metadata": {},
   "source": [
    "Here is one plane of the *shifted* volume:"
   ]
  },
  {
   "cell_type": "code",
   "execution_count": 3,
   "id": "847989f4",
   "metadata": {
    "execution": {
     "iopub.execute_input": "2022-09-28T06:59:02.441850Z",
     "iopub.status.busy": "2022-09-28T06:59:02.440695Z",
     "iopub.status.idle": "2022-09-28T06:59:02.654752Z",
     "shell.execute_reply": "2022-09-28T06:59:02.655995Z"
    }
   },
   "outputs": [],
   "source": [
    "shifted_vol = nib.load('shifted_vol.nii').get_fdata()\n",
    "plt.imshow(shifted_vol[:, :, 15])"
   ]
  },
  {
   "cell_type": "markdown",
   "id": "4df3e81e",
   "metadata": {},
   "source": [
    "As you can see, they are slightly different, because of the shift we applied.\n",
    "\n",
    "Your job is to take the machinery from the page above, and estimate the shift\n",
    "we applied.\n",
    "\n",
    "We have made your job just slightly more difficult by using different names for\n",
    "the functions here, than the ones in the Optimizing Space page, but you will\n",
    "find implementations for these functions in that page, if you know what to look\n",
    "for.  Or you can implement the functions yourself, using different code or\n",
    "algorithms."
   ]
  },
  {
   "cell_type": "code",
   "execution_count": 4,
   "id": "ce6efc5f",
   "metadata": {
    "execution": {
     "iopub.execute_input": "2022-09-28T06:59:02.663617Z",
     "iopub.status.busy": "2022-09-28T06:59:02.662152Z",
     "iopub.status.idle": "2022-09-28T06:59:02.665465Z",
     "shell.execute_reply": "2022-09-28T06:59:02.666135Z"
    }
   },
   "outputs": [],
   "source": [
    "def mismatch_func(arr0, arr1):\n",
    "    \"\"\" Return value that is lower when `arr0` and `arr1` are better matched.\n",
    "\n",
    "    You can chose your mismatch calculation.\n",
    "    \"\"\"\n",
    "    mismatch_val = -np.corrcoef(arr0.ravel(), arr1.ravel())[0, 1]\n",
    "    return mismatch_val"
   ]
  },
  {
   "cell_type": "code",
   "execution_count": 5,
   "id": "a7b09514",
   "metadata": {
    "execution": {
     "iopub.execute_input": "2022-09-28T06:59:02.674816Z",
     "iopub.status.busy": "2022-09-28T06:59:02.673900Z",
     "iopub.status.idle": "2022-09-28T06:59:02.682616Z",
     "shell.execute_reply": "2022-09-28T06:59:02.680645Z"
    },
    "lines_to_next_cell": 2
   },
   "outputs": [],
   "source": [
    "# Test that an array has more mismatch when displaced\n",
    "rng = np.random.default_rng()\n",
    "img0 = rng.normal(size=(10, 11, 12))\n",
    "img1 = np.zeros(img0.shape)\n",
    "img1[:-1, :-2, :-3] = img0[1:, 2:, 3:]\n",
    "assert mismatch_func(img0, img0) < mismatch_func(img0, img1)"
   ]
  },
  {
   "cell_type": "code",
   "execution_count": 6,
   "id": "4aa553f3",
   "metadata": {
    "execution": {
     "iopub.execute_input": "2022-09-28T06:59:02.691494Z",
     "iopub.status.busy": "2022-09-28T06:59:02.689603Z",
     "iopub.status.idle": "2022-09-28T06:59:02.693573Z",
     "shell.execute_reply": "2022-09-28T06:59:02.694502Z"
    }
   },
   "outputs": [],
   "source": [
    "def apply_params(vol, x_y_z_trans):\n",
    "    \"\"\" Apply translations `x_y_z_trans` to 3D volume `vol`\n",
    "\n",
    "    x_y_z_trans is a sequence or array length 3, containing\n",
    "    the (x, y, z) translations in voxels.\n",
    "\n",
    "    Values in `x_y_z_trans` can be positive or negative,\n",
    "    and can be floats.\n",
    "    \"\"\"\n",
    "    x_y_z_trans = np.array(x_y_z_trans)\n",
    "    trans_vol = snd.affine_transform(vol, [1, 1, 1], -x_y_z_trans, order=1)\n",
    "    return trans_vol"
   ]
  },
  {
   "cell_type": "code",
   "execution_count": 7,
   "id": "da52b98e",
   "metadata": {
    "execution": {
     "iopub.execute_input": "2022-09-28T06:59:02.701809Z",
     "iopub.status.busy": "2022-09-28T06:59:02.700731Z",
     "iopub.status.idle": "2022-09-28T06:59:02.731067Z",
     "shell.execute_reply": "2022-09-28T06:59:02.732040Z"
    },
    "lines_to_next_cell": 2
   },
   "outputs": [],
   "source": [
    "# Undoing shift above gives, for valid voxels, values similar to original.\n",
    "undone = apply_params(img1, [1, 2, 3])\n",
    "assert np.allclose(img0[1:, 2:, 3:], undone[1:, 2:, 3:])"
   ]
  },
  {
   "cell_type": "code",
   "execution_count": 8,
   "id": "3ab91c67",
   "metadata": {
    "execution": {
     "iopub.execute_input": "2022-09-28T06:59:02.739094Z",
     "iopub.status.busy": "2022-09-28T06:59:02.738208Z",
     "iopub.status.idle": "2022-09-28T06:59:02.741137Z",
     "shell.execute_reply": "2022-09-28T06:59:02.741785Z"
    }
   },
   "outputs": [],
   "source": [
    "def cost_func(x_y_z_trans, target, moving):\n",
    "    \"\"\" Cost xyz translation `x_y_z_trans`, given `target` and `moving` images\n",
    "\n",
    "    `target` is the array we are trying to match to.  `moving` is the array we\n",
    "    are trying to match, by using the `x_trans` transform.\n",
    "\n",
    "    `x_y_z_trans` are the x, y, z translations mapping from the `moving` to the\n",
    "    `target` volume.\n",
    "    \"\"\"\n",
    "    unshifted = apply_params(moving, x_y_z_trans)\n",
    "    cost = mismatch_func(unshifted, target)\n",
    "    return cost"
   ]
  },
  {
   "cell_type": "code",
   "execution_count": 9,
   "id": "5c6f9c09",
   "metadata": {
    "execution": {
     "iopub.execute_input": "2022-09-28T06:59:02.748402Z",
     "iopub.status.busy": "2022-09-28T06:59:02.747394Z",
     "iopub.status.idle": "2022-09-28T06:59:02.753190Z",
     "shell.execute_reply": "2022-09-28T06:59:02.754137Z"
    }
   },
   "outputs": [],
   "source": [
    "assert cost_func([0, 0, 0], img0, img0) == mismatch_func(img0, img0)\n",
    "assert np.isclose(\n",
    "    cost_func([1, 2, 3], img0, img1),\n",
    "    mismatch_func(img0, undone))"
   ]
  },
  {
   "cell_type": "markdown",
   "id": "29780ce3",
   "metadata": {},
   "source": [
    "Do the optimization of `cost_func` using `fmin_powell`:"
   ]
  },
  {
   "cell_type": "code",
   "execution_count": 10,
   "id": "85895739",
   "metadata": {
    "execution": {
     "iopub.execute_input": "2022-09-28T06:59:02.760742Z",
     "iopub.status.busy": "2022-09-28T06:59:02.759537Z",
     "iopub.status.idle": "2022-09-28T06:59:04.942483Z",
     "shell.execute_reply": "2022-09-28T06:59:04.941759Z"
    }
   },
   "outputs": [],
   "source": [
    "best_params = fmin_powell(cost_func,\n",
    "                          [0, 0, 0],\n",
    "                          args=(unshifted_vol, shifted_vol))\n",
    "# Show the result\n",
    "best_params"
   ]
  },
  {
   "cell_type": "code",
   "execution_count": 11,
   "id": "06b66bf4",
   "metadata": {
    "execution": {
     "iopub.execute_input": "2022-09-28T06:59:04.948429Z",
     "iopub.status.busy": "2022-09-28T06:59:04.947485Z",
     "iopub.status.idle": "2022-09-28T06:59:04.950758Z",
     "shell.execute_reply": "2022-09-28T06:59:04.950073Z"
    }
   },
   "outputs": [],
   "source": [
    "# It just so happens that the optimal parameters nearly sum to \n",
    "# zero.\n",
    "assert np.abs(np.sum(best_params)) < 0.01"
   ]
  },
  {
   "cell_type": "markdown",
   "id": "a729effe",
   "metadata": {},
   "source": [
    "Make a new copy of `shifted_vol` that applies the estimated parameters, to make\n",
    "an image similar to `unshifted_vol`."
   ]
  },
  {
   "cell_type": "code",
   "execution_count": 12,
   "id": "89f0b45b",
   "metadata": {
    "execution": {
     "iopub.execute_input": "2022-09-28T06:59:04.957225Z",
     "iopub.status.busy": "2022-09-28T06:59:04.955749Z",
     "iopub.status.idle": "2022-09-28T06:59:05.223108Z",
     "shell.execute_reply": "2022-09-28T06:59:05.225382Z"
    }
   },
   "outputs": [],
   "source": [
    "re_unshifted_vol = snd.affine_transform(shifted_vol,\n",
    "                                        [1, 1, 1],\n",
    "                                        -best_params)\n",
    "# Show a middle slice of the fixed volume.\n",
    "plt.imshow(re_unshifted_vol[:, :, 15])"
   ]
  }
 ],
 "metadata": {
  "jupytext": {
   "notebook_metadata_filter": "all,-language_info",
   "split_at_heading": true,
   "text_representation": {
    "extension": ".Rmd",
    "format_name": "rmarkdown",
    "format_version": "1.2",
    "jupytext_version": "1.10.3"
   }
  },
  "kernelspec": {
   "display_name": "Python 3",
   "language": "python",
   "name": "python3"
  },
  "language_info": {
   "codemirror_mode": {
    "name": "ipython",
    "version": 3
   },
   "file_extension": ".py",
   "mimetype": "text/x-python",
   "name": "python",
   "nbconvert_exporter": "python",
   "pygments_lexer": "ipython3",
   "version": "3.9.13"
  }
 },
 "nbformat": 4,
 "nbformat_minor": 5
}
