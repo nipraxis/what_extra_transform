{
 "cells": [
  {
   "cell_type": "markdown",
   "id": "b779387b",
   "metadata": {},
   "source": [
    "# Extra transform exercise"
   ]
  },
  {
   "cell_type": "code",
   "execution_count": null,
   "id": "3f83185c",
   "metadata": {},
   "outputs": [],
   "source": [
    "#: standard imports\n",
    "import numpy as np\n",
    "import numpy.linalg as npl\n",
    "# print arrays to 4 decimal places\n",
    "np.set_printoptions(precision=4, suppress=True)\n",
    "import matplotlib.pyplot as plt\n",
    "#: gray colormap by default\n",
    "plt.rcParams['image.cmap'] = 'gray'\n",
    "from scipy.optimize import fmin_powell\n",
    "import scipy.ndimage as snd\n",
    "\n",
    "import nibabel as nib"
   ]
  },
  {
   "cell_type": "markdown",
   "id": "4c7232af",
   "metadata": {},
   "source": [
    "This exercise follows on from [optimizing\n",
    "space](https://textbook.nipraxis.org).\n",
    "\n",
    "A malicious entity (us) has taken a volume from an FMRI time-series, and\n",
    "translated it by a few voxels some or all of the three axes (X, Y, and Z).\n",
    "\n",
    "Here is one plane of the not-shifted volume of the FMRI time series:"
   ]
  },
  {
   "cell_type": "code",
   "execution_count": null,
   "id": "d7c96a74",
   "metadata": {},
   "outputs": [],
   "source": [
    "unshifted_vol = nib.load('unshifted_vol.nii').get_fdata()\n",
    "plt.imshow(unshifted_vol[:, :, 15])"
   ]
  },
  {
   "cell_type": "markdown",
   "id": "4af34250",
   "metadata": {},
   "source": [
    "Here is one plane of the *shifted* volume:"
   ]
  },
  {
   "cell_type": "code",
   "execution_count": null,
   "id": "18bc93d5",
   "metadata": {},
   "outputs": [],
   "source": [
    "shifted_vol = nib.load('shifted_vol.nii').get_fdata()\n",
    "plt.imshow(shifted_vol[:, :, 15])"
   ]
  },
  {
   "cell_type": "markdown",
   "id": "d33643ad",
   "metadata": {},
   "source": [
    "As you can see, they are slightly different, because of the shift we applied.\n",
    "\n",
    "Your job is to take the machinery from the page above, and estimate the shift\n",
    "we applied.\n",
    "\n",
    "We have made your job just slightly more difficult by using different names for\n",
    "the functions here, than the ones in the Optimizing Space page, but you will\n",
    "find implementations for these functions in that page, if you know what to look\n",
    "for.  Or you can implement the functions yourself, using different code or\n",
    "algorithms."
   ]
  },
  {
   "cell_type": "code",
   "execution_count": null,
   "id": "897dbd1a",
   "metadata": {},
   "outputs": [],
   "source": [
    "def mismatch_func(arr0, arr1):\n",
    "    \"\"\" Return value that is lower when `arr0` and `arr1` are better matched.\n",
    "\n",
    "    You can chose your mismatch calculation.\n",
    "    \"\"\"\n",
    "    mismatch_val = ...\n",
    "    return mismatch_val"
   ]
  },
  {
   "cell_type": "code",
   "execution_count": null,
   "id": "4c755e3a",
   "metadata": {
    "lines_to_next_cell": 2
   },
   "outputs": [],
   "source": [
    "# Test that an array has more mismatch when displaced\n",
    "rng = np.random.default_rng()\n",
    "img0 = rng.normal(size=(10, 11, 12))\n",
    "img1 = np.zeros(img0.shape)\n",
    "img1[:-1, :-2, :-3] = img0[1:, 2:, 3:]\n",
    "assert mismatch_func(img0, img0) < mismatch_func(img0, img1)"
   ]
  },
  {
   "cell_type": "code",
   "execution_count": null,
   "id": "5d96c0e8",
   "metadata": {},
   "outputs": [],
   "source": [
    "def apply_params(vol, x_y_z_trans):\n",
    "    \"\"\" Apply translations `x_y_z_trans` to 3D volume `vol`\n",
    "\n",
    "    x_y_z_trans is a sequence or array length 3, containing\n",
    "    the (x, y, z) translations in voxels.\n",
    "\n",
    "    Values in `x_y_z_trans` can be positive or negative,\n",
    "    and can be floats.\n",
    "    \"\"\"\n",
    "    x_y_z_trans = np.array(x_y_z_trans)\n",
    "    trans_vol = ...\n",
    "    return trans_vol"
   ]
  },
  {
   "cell_type": "code",
   "execution_count": null,
   "id": "c266bdf7",
   "metadata": {
    "lines_to_next_cell": 2
   },
   "outputs": [],
   "source": [
    "# Undoing shift above gives, for valid voxels, values similar to original.\n",
    "undone = apply_params(img1, [1, 2, 3])\n",
    "assert np.allclose(img0[1:, 2:, 3:], undone[1:, 2:, 3:])"
   ]
  },
  {
   "cell_type": "code",
   "execution_count": null,
   "id": "13822b3b",
   "metadata": {},
   "outputs": [],
   "source": [
    "def cost_func(x_y_z_trans, target, moving):\n",
    "    \"\"\" Cost xyz translation `x_y_z_trans`, given `target` and `moving` images\n",
    "\n",
    "    `target` is the array we are trying to match to.  `moving` is the array we\n",
    "    are trying to match, by using the `x_trans` transform.\n",
    "\n",
    "    `x_y_z_trans` are the x, y, z translations mapping from the `moving` to the\n",
    "    `target` volume.\n",
    "    \"\"\"\n",
    "    ...\n",
    "    cost = ...\n",
    "    return cost"
   ]
  },
  {
   "cell_type": "code",
   "execution_count": null,
   "id": "5bd12e4e",
   "metadata": {},
   "outputs": [],
   "source": [
    "assert cost_func([0, 0, 0], img0, img0) == mismatch_func(img0, img0)\n",
    "assert np.isclose(\n",
    "    cost_func([1, 2, 3], img0, img1),\n",
    "    mismatch_func(img0, undone))"
   ]
  },
  {
   "cell_type": "markdown",
   "id": "677f303d",
   "metadata": {},
   "source": [
    "Do the optimization of `cost_func` using `fmin_powell`:"
   ]
  },
  {
   "cell_type": "code",
   "execution_count": null,
   "id": "28b6f24d",
   "metadata": {},
   "outputs": [],
   "source": [
    "best_params = ...\n",
    "# Show the result\n",
    "best_params"
   ]
  },
  {
   "cell_type": "code",
   "execution_count": null,
   "id": "d42033b6",
   "metadata": {},
   "outputs": [],
   "source": [
    "# It just so happens that the optimal parameters nearly sum to \n",
    "# zero.\n",
    "assert np.abs(np.sum(best_params)) < 0.01"
   ]
  },
  {
   "cell_type": "markdown",
   "id": "34101f29",
   "metadata": {},
   "source": [
    "Make a new copy of `shifted_vol` that applies the estimated parameters, to make\n",
    "an image similar to `unshifted_vol`."
   ]
  },
  {
   "cell_type": "code",
   "execution_count": null,
   "id": "1fd3550b",
   "metadata": {},
   "outputs": [],
   "source": [
    "re_unshifted_vol = ...\n",
    "# Show a middle slice of the fixed volume.\n",
    "plt.imshow(re_unshifted_vol[:, :, 15])"
   ]
  }
 ],
 "metadata": {
  "jupytext": {
   "notebook_metadata_filter": "all,-language_info",
   "split_at_heading": true,
   "text_representation": {
    "extension": ".Rmd",
    "format_name": "rmarkdown",
    "format_version": "1.2",
    "jupytext_version": "1.10.3"
   }
  },
  "kernelspec": {
   "display_name": "Python 3",
   "language": "python",
   "name": "python3"
  }
 },
 "nbformat": 4,
 "nbformat_minor": 5
}
